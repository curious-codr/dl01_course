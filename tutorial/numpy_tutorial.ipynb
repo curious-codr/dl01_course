{
 "cells": [
  {
   "cell_type": "markdown",
   "metadata": {},
   "source": [
    "# Jupyter\n",
    "the Jupyter Notebook is a browser based interface in which you can type and execute code as well as visualise your results.\n",
    "\n",
    "What you're reading now is a Jupyter Notebook and it's agreat way to mix up narrative, pictures, data, results and graphs whilst also signposting you to useful information elsewhere. The majority of the exercises in this course will take place in the Jupyter notebook.\n",
    "\n",
    "# Steps to install jupyter notebook \n",
    "\n",
    "* Install Anaconda \n",
    "* Follow instructions from http://jupyter.org/install"
   ]
  },
  {
   "cell_type": "markdown",
   "metadata": {},
   "source": [
    "# Introduction to Python for Data Analysis\n",
    "\n",
    "Welcome to the second section of this course: Python for Data Analysis!\n",
    "\n",
    "In this section of the course we'll explore how you can use Python to read, clean, manage, structure, wrangle, aggregate, display and output data. This kind of work is critical to being able to glean insight from, and visualise data.\n",
    "\n",
    "In this lesson we'll start by meeting a few of the useful data analysis libraries that we'll be using.\n",
    "\n",
    "\n",
    "<a href = \"http://www.numpy.org/\">Numpy</a> is short for 'Numerical Python' and it is a library focused around mathematical. Numpy provides data structures that allow us to create multi-dimensional arrays and matricies and also provides a large number of mathematical functions.\n",
    "\n",
    "Numpy comes as part of the Anaconda installation so you don't need to download anything further.\n",
    "\n",
    "\n",
    "<a href = \"http://scikit-learn.org/stable/\">Scikit-learn</a> is short for 'Scientific Python library' and is generally used for analytics, statistics and engineering.\n",
    "\n",
    "Scikit-learn contains a wide variety of modules including algegra, interpolation, statistics and many more. We'll not be delving too deeply into scikit-learn as part of this course, however it is an important library with a lot of useful functions and models that you should be aware of.\n",
    "\n",
    "\n",
    "<a href = \"http://pandas.pydata.org/\">Pandas</a> is built on top of Numpy and allows us to create more complex data structures than we've previously met, the likes of which we're probably more comfortable with as analysts, including series and dataframes. It also provides us with a wide range of tools for reading, dealing with and transforming these data structures as well as tools to convert data from traditional Python data strucutres such as lists, tuples and dictionaries.\n",
    "\n",
    "Pandas is built on top of Numpy so the data structures that are created with both packages integrate well with each other and also comes as part of the Anaconda installation."
   ]
  }
 ],
 "metadata": {
  "kernelspec": {
   "display_name": "Python 3",
   "language": "python",
   "name": "python3"
  },
  "language_info": {
   "codemirror_mode": {
    "name": "ipython",
    "version": 3
   },
   "file_extension": ".py",
   "mimetype": "text/x-python",
   "name": "python",
   "nbconvert_exporter": "python",
   "pygments_lexer": "ipython3",
   "version": "3.6.5"
  }
 },
 "nbformat": 4,
 "nbformat_minor": 2
}
